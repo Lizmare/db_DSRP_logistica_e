{
  "nbformat": 4,
  "nbformat_minor": 0,
  "metadata": {
    "colab": {
      "provenance": [],
      "authorship_tag": "ABX9TyM3zNTCCma/4J4EpqlQg6vK",
      "include_colab_link": true
    },
    "kernelspec": {
      "name": "python3",
      "display_name": "Python 3"
    },
    "language_info": {
      "name": "python"
    }
  },
  "cells": [
    {
      "cell_type": "markdown",
      "metadata": {
        "id": "view-in-github",
        "colab_type": "text"
      },
      "source": [
        "<a href=\"https://colab.research.google.com/github/Lizmare/db_DSRP_logistica_e/blob/main/POBLARLOGISTICA.ipynb\" target=\"_parent\"><img src=\"https://colab.research.google.com/assets/colab-badge.svg\" alt=\"Open In Colab\"/></a>"
      ]
    },
    {
      "cell_type": "markdown",
      "source": [
        "LIZ REYES"
      ],
      "metadata": {
        "id": "tdpajrhdixPi"
      }
    },
    {
      "cell_type": "markdown",
      "source": [
        "# ***POBLAR TABLA DIMENSIONAL***"
      ],
      "metadata": {
        "id": "efG_h3UTii-M"
      }
    },
    {
      "cell_type": "code",
      "execution_count": null,
      "metadata": {
        "id": "QWSZXd7PigqJ"
      },
      "outputs": [],
      "source": [
        "Use logistica_DSRP;\n",
        "GO\n",
        "--TABLA d\n",
        "SELECT id, nombre, apellido, email, telefono, direccion, fecha_registro\n",
        "FROM clientes;\n",
        "--TABLA DIM_SUCURSALES\n",
        "SELECT id, nombre, direccion, telefono\n",
        "FROM sucursales;\n",
        "--TABAL DIM_CONDUCTORES\n",
        "SELECT id, nombre, apellido, licencia, telefono\n",
        "FROM conductores;\n",
        "--TABLA DIM_VEHICULOS\n",
        "SELECT id, placa, tipo_vehiculo, capacidad, conductor_id\n",
        "FROM vehiculos;\n",
        "--TABLA DIM RUTAS\n",
        "SELECT id, nombre, descripcion\n",
        "FROM rutas;\n",
        "--TABLA DIM_TIEMPO\n",
        "SELECT DISTINCT\n",
        "    fecha_envio AS fecha,\n",
        "    DAY(fecha_envio) AS dia,\n",
        "    MONTH(fecha_envio) AS mes,\n",
        "    YEAR(fecha_envio) AS año,\n",
        "    CEILING(MONTH(fecha_envio) / 3.0) AS trimestre,\n",
        "    DATEPART(week, fecha_envio) AS semana,\n",
        "    DATENAME(weekday, fecha_envio) AS dia_semana\n",
        "FROM encomiendas\n",
        "UNION\n",
        "SELECT DISTINCT\n",
        "    fecha_entrega AS fecha,\n",
        "    DAY(fecha_entrega) AS dia,\n",
        "    MONTH(fecha_entrega) AS mes,\n",
        "    YEAR(fecha_entrega) AS año,\n",
        "    CEILING(MONTH(fecha_entrega) / 3.0) AS trimestre,\n",
        "    DATEPART(week, fecha_entrega) AS semana,\n",
        "    DATENAME(weekday, fecha_entrega) AS dia_semana\n",
        "FROM encomiendas\n",
        "WHERE fecha_entrega IS NOT NULL;\n",
        "--TABLA Hehos_encomiendas;\n",
        "SELECT\n",
        "    e.cliente_id,\n",
        "    e.origen_sucursal_id,\n",
        "    e.destino_sucursal_id,\n",
        "    vr.vehiculo_id,\n",
        "    vr.ruta_id,\n",
        "    e.peso,\n",
        "    e.estado,\n",
        "    e.fecha_envio,\n",
        "    e.fecha_entrega,\n",
        "    mp.monto,\n",
        "    mp.tipo_pago,\n",
        "    e.fecha_envio,\n",
        "    e.fecha_entrega\n",
        "FROM encomiendas e\n",
        "JOIN vehiculos_rutas vr ON e.vehiculo_ruta_id = vr.id\n",
        "JOIN metodo_pago mp ON e.id = mp.encomienda_id;\n"
      ]
    },
    {
      "cell_type": "code",
      "source": [],
      "metadata": {
        "id": "wvTVUYA6iiiy"
      },
      "execution_count": null,
      "outputs": []
    }
  ]
}